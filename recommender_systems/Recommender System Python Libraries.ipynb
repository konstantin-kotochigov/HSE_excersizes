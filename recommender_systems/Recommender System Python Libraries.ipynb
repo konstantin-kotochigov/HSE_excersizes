{
 "cells": [
  {
   "cell_type": "markdown",
   "metadata": {},
   "source": [
    "Существует несколько популярных библиотек, упрощающих разработку рекомендательных систем. В Sklearn к сожалению нет готовых методов для генерации рекомендаций (считается, что их можно получить базовым функционалом библиотеки).\n",
    "\n",
    "В этом упражнении рассомтрим три популярные билиотеки: **lightFM**, **Surprise** и **Implicit**\n",
    "\n"
   ]
  },
  {
   "cell_type": "markdown",
   "metadata": {},
   "source": [
    "# <span style=\"color:blue\">LightFM<span>"
   ]
  },
  {
   "cell_type": "markdown",
   "metadata": {},
   "source": [
    "Установка:\n",
    "\n",
    "    pip install lightfm\n",
    "    \n",
    "или\n",
    "    \n",
    "    conda install -c conda-forge lightfm\n",
    "\n",
    "или\n",
    "    \n",
    "    через GUI анаконды (проверить, что добавлен channel \"conda-forge\")"
   ]
  },
  {
   "cell_type": "markdown",
   "metadata": {},
   "source": [
    "В библиотеке есть 2 встроенных датасета: \n",
    "- Movielens (оценки фильмов по шкале 1-5)\n",
    "- Stackexchange"
   ]
  },
  {
   "cell_type": "markdown",
   "metadata": {},
   "source": [
    "Будем работать с MovieLens:"
   ]
  },
  {
   "cell_type": "code",
   "execution_count": 129,
   "metadata": {},
   "outputs": [],
   "source": [
    "from lightfm.datasets import fetch_movielens\n",
    "data = fetch_movielens()\n",
    "\n",
    "titles = data['item_labels']\n",
    "ratings = data['train'].tocsr()\n",
    "ratings_test = data['test'].tocsr()"
   ]
  },
  {
   "cell_type": "markdown",
   "metadata": {
    "collapsed": true
   },
   "source": [
    "Данные выгружаются в разреженном формате COO, поэтому для удобства можем перевести в формат CSR (для этого есть метод tocsr()).\n",
    "\n",
    "\n",
    "Проставленные оценки пользователя"
   ]
  },
  {
   "cell_type": "code",
   "execution_count": 125,
   "metadata": {},
   "outputs": [
    {
     "data": {
      "text/plain": [
       "0    1420\n",
       "5      79\n",
       "4      77\n",
       "3      54\n",
       "2      27\n",
       "1      25\n",
       "dtype: int64"
      ]
     },
     "execution_count": 125,
     "metadata": {},
     "output_type": "execute_result"
    }
   ],
   "source": [
    "pandas.Series(ratings[0,:].toarray()[0]).value_counts()"
   ]
  },
  {
   "cell_type": "code",
   "execution_count": null,
   "metadata": {},
   "outputs": [],
   "source": []
  },
  {
   "cell_type": "code",
   "execution_count": 83,
   "metadata": {},
   "outputs": [
    {
     "data": {
      "text/plain": [
       "<943x1682 sparse matrix of type '<class 'numpy.int32'>'\n",
       "\twith 9430 stored elements in COOrdinate format>"
      ]
     },
     "execution_count": 83,
     "metadata": {},
     "output_type": "execute_result"
    }
   ],
   "source": [
    "data['test']"
   ]
  },
  {
   "cell_type": "markdown",
   "metadata": {},
   "source": [
    "Создание модели сводится к нескольким строкам.\n",
    "\n"
   ]
  },
  {
   "cell_type": "code",
   "execution_count": 132,
   "metadata": {},
   "outputs": [],
   "source": [
    "from lightfm import LightFM\n",
    "from lightfm.evaluation import precision_at_k\n",
    "\n",
    "model = LightFM(loss='warp')\n",
    "model.fit(ratings, epochs=30, num_threads=2)\n",
    "test_precision = precision_at_k(model, ratings_test, k=5).mean()"
   ]
  },
  {
   "cell_type": "markdown",
   "metadata": {},
   "source": [
    "Попробуем вручную загрузить данные"
   ]
  },
  {
   "cell_type": "code",
   "execution_count": null,
   "metadata": {},
   "outputs": [],
   "source": []
  },
  {
   "cell_type": "markdown",
   "metadata": {},
   "source": [
    "В качестве основного параметра мы передали матрицу оценок. В этом случае выполняется матричная факторизация (matrix factorization)."
   ]
  },
  {
   "cell_type": "code",
   "execution_count": 131,
   "metadata": {},
   "outputs": [
    {
     "data": {
      "text/plain": [
       "0.11049842"
      ]
     },
     "execution_count": 131,
     "metadata": {},
     "output_type": "execute_result"
    }
   ],
   "source": [
    "test_precision"
   ]
  },
  {
   "cell_type": "markdown",
   "metadata": {},
   "source": [
    "# <span style=\"color:blue\">Surprise</span>"
   ]
  },
  {
   "cell_type": "markdown",
   "metadata": {},
   "source": [
    "Вторая библиотека, которую мы рассмотрим, называется **Surprise**.\n",
    "\n",
    "Варианты усатновки:\n",
    "- pip install scikit-learn\n",
    "- conda -c conda-forge install scikit-surprise\n",
    "- через Anaconda GUI "
   ]
  },
  {
   "cell_type": "code",
   "execution_count": null,
   "metadata": {},
   "outputs": [],
   "source": [
    "from surprise import SVD\n",
    "from surprise import Dataset\n",
    "from surprise.model_selection import cross_validate"
   ]
  },
  {
   "cell_type": "markdown",
   "metadata": {},
   "source": [
    "В бибилиотеке Surprise датасет также можно подгрузить из кода. Для этого есть Dataset.load_builtin"
   ]
  },
  {
   "cell_type": "code",
   "execution_count": null,
   "metadata": {},
   "outputs": [],
   "source": []
  },
  {
   "cell_type": "code",
   "execution_count": null,
   "metadata": {
    "collapsed": true
   },
   "outputs": [],
   "source": [
    "# Load the movielens-100k dataset (download it if needed),\n",
    "data = Dataset.load_builtin('ml-100k')\n",
    "\n",
    "# We'll use the famous SVD algorithm.\n",
    "algo = SVD()"
   ]
  },
  {
   "cell_type": "code",
   "execution_count": null,
   "metadata": {},
   "outputs": [],
   "source": [
    "for x in data.folds():\n",
    "    print(x[0])"
   ]
  },
  {
   "cell_type": "code",
   "execution_count": null,
   "metadata": {
    "collapsed": true
   },
   "outputs": [],
   "source": [
    "# Run 5-fold cross-validation and print results\n",
    "cross_validate(algo, data, measures=['RMSE'], cv=3, verbose=False)"
   ]
  },
  {
   "cell_type": "markdown",
   "metadata": {},
   "source": [
    "# <span style=\"color:blue\">Implicit<span>"
   ]
  },
  {
   "cell_type": "markdown",
   "metadata": {},
   "source": [
    "**Implicit** - библиотека, заточенная под работу с неяынми рейтингами.\n",
    "\n",
    "- pip install implicit\n",
    "- conda install -c conda-forge implicit\n",
    "- Anaconda GUI"
   ]
  },
  {
   "cell_type": "code",
   "execution_count": 1,
   "metadata": {},
   "outputs": [],
   "source": [
    "import implicit\n",
    "\n",
    "import os\n",
    "import pandas\n",
    "data_path = \"/Users/Konstantin/HSE/MasterProgram/Практический Семинар/Recommender Systems/RecSys_lesson1/ml-1m/\""
   ]
  },
  {
   "cell_type": "markdown",
   "metadata": {},
   "source": [
    "Загрузка тестового датасета выполняется методом **get_movielens()**. Параметр variant определяет размер загружаемой выборки. Мы будем использовать \"1m\" (1 млн оценок).\n",
    "\n",
    "На выходе:\n",
    "- ratings - матрица оценок (в sparse-формате)\n",
    "- titles - названия товаров (фильмы)"
   ]
  },
  {
   "cell_type": "code",
   "execution_count": 37,
   "metadata": {},
   "outputs": [],
   "source": [
    "from implicit.datasets.movielens import get_movielens\n",
    "titles, ratings = get_movielens(variant='1m')"
   ]
  },
  {
   "cell_type": "markdown",
   "metadata": {},
   "source": [
    "Приведем матрицу оценок к бинарному формату 0/1"
   ]
  },
  {
   "cell_type": "code",
   "execution_count": 39,
   "metadata": {},
   "outputs": [],
   "source": [
    "import numpy\n",
    "ratings.data[ratings.data < 4.0] = 0\n",
    "ratings.eliminate_zeros()\n",
    "ratings.data = numpy.ones(len(ratings.data))"
   ]
  },
  {
   "cell_type": "code",
   "execution_count": 18,
   "metadata": {},
   "outputs": [
    {
     "data": {
      "text/plain": [
       "(3953, 6041)"
      ]
     },
     "execution_count": 18,
     "metadata": {},
     "output_type": "execute_result"
    }
   ],
   "source": [
    "ratings.shape"
   ]
  },
  {
   "cell_type": "markdown",
   "metadata": {},
   "source": [
    "В implicit есть несколько моделей:\n",
    "- AlternatingLeastSquares\n",
    "- BayesianPersonalizedRanking\n",
    "- TFIDFRecommender\n",
    "- CosineRecommender\n",
    "- BM25Recommender"
   ]
  },
  {
   "cell_type": "code",
   "execution_count": 62,
   "metadata": {},
   "outputs": [
    {
     "name": "stderr",
     "output_type": "stream",
     "text": [
      "100%|██████████| 15.0/15 [00:04<00:00,  2.82it/s]\n"
     ]
    }
   ],
   "source": [
    "model = implicit.als.AlternatingLeastSquares(factors=50)\n",
    "model.fit(ratings)"
   ]
  },
  {
   "cell_type": "markdown",
   "metadata": {},
   "source": [
    "Возьмем какого-нибудь юзера и посмотрим, какие фильмы ему понравились"
   ]
  },
  {
   "cell_type": "code",
   "execution_count": 58,
   "metadata": {},
   "outputs": [
    {
     "name": "stdout",
     "output_type": "stream",
     "text": [
      "Star Wars: Episode IV - A New Hope (1977)\n",
      "Jurassic Park (1993)\n",
      "Die Hard (1988)\n",
      "E.T. the Extra-Terrestrial (1982)\n",
      "Raiders of the Lost Ark (1981)\n",
      "Good, The Bad and The Ugly, The (1966)\n",
      "Alien (1979)\n",
      "Terminator, The (1984)\n",
      "Jaws (1975)\n",
      "Rocky (1976)\n",
      "Saving Private Ryan (1998)\n",
      "King Kong (1933)\n",
      "Run Lola Run (Lola rennt) (1998)\n",
      "Goldfinger (1964)\n",
      "Fistful of Dollars, A (1964)\n",
      "Thelma & Louise (1991)\n",
      "Hustler, The (1961)\n",
      "Mad Max (1979)\n"
     ]
    }
   ],
   "source": [
    "userid = 4\n",
    "for y in [titles[x] for x in numpy.nonzero(ratings.T[userid,:])[1]]:\n",
    "    print(y)"
   ]
  },
  {
   "cell_type": "markdown",
   "metadata": {},
   "source": [
    "Сгенерировать реокемндации - model.recommend()"
   ]
  },
  {
   "cell_type": "code",
   "execution_count": 66,
   "metadata": {},
   "outputs": [
    {
     "data": {
      "text/plain": [
       "[(589, 0.4580247),\n",
       " (2571, 0.4282091),\n",
       " (1291, 0.40621763),\n",
       " (1304, 0.38326198),\n",
       " (1196, 0.37946856)]"
      ]
     },
     "execution_count": 66,
     "metadata": {},
     "output_type": "execute_result"
    }
   ],
   "source": [
    "recommended_film_ids = model.recommend(userid=userid, user_items=ratings.T.tocsr(), N=5)\n",
    "recommended_film_ids"
   ]
  },
  {
   "cell_type": "markdown",
   "metadata": {},
   "source": [
    "Переведем айдишники в названия"
   ]
  },
  {
   "cell_type": "code",
   "execution_count": 70,
   "metadata": {},
   "outputs": [
    {
     "data": {
      "text/plain": [
       "[('Terminator 2: Judgment Day (1991)', 0.4580247),\n",
       " ('Matrix, The (1999)', 0.4282091),\n",
       " ('Indiana Jones and the Last Crusade (1989)', 0.40621763),\n",
       " ('Butch Cassidy and the Sundance Kid (1969)', 0.38326198),\n",
       " ('Star Wars: Episode V - The Empire Strikes Back (1980)', 0.37946856)]"
      ]
     },
     "execution_count": 70,
     "metadata": {},
     "output_type": "execute_result"
    }
   ],
   "source": [
    "recommened_film_ids = [(titles[x[0]],x[1]) for x in recommended_film_ids]\n",
    "recommened_film_ids"
   ]
  },
  {
   "cell_type": "code",
   "execution_count": 75,
   "metadata": {},
   "outputs": [
    {
     "data": {
      "text/plain": [
       "array([   0, 1655,  285, ...,   33,   27,  264], dtype=int32)"
      ]
     },
     "execution_count": 75,
     "metadata": {},
     "output_type": "execute_result"
    }
   ],
   "source": [
    "numpy.ediff1d(ratings.indptr)"
   ]
  }
 ],
 "metadata": {
  "kernelspec": {
   "display_name": "Python 3",
   "language": "python",
   "name": "python3"
  },
  "language_info": {
   "codemirror_mode": {
    "name": "ipython",
    "version": 3
   },
   "file_extension": ".py",
   "mimetype": "text/x-python",
   "name": "python",
   "nbconvert_exporter": "python",
   "pygments_lexer": "ipython3",
   "version": "3.5.6"
  }
 },
 "nbformat": 4,
 "nbformat_minor": 1
}
