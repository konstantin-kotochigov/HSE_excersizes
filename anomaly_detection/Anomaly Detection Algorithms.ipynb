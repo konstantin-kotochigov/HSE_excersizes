{
 "cells": [
  {
   "cell_type": "markdown",
   "metadata": {},
   "source": [
    "### Гаусовы эллипсы\n",
    "\n",
    "Самый простой способ детектирования аномалий - описать данные Гаусовым распределением и найти точки из его хвостов.\n",
    "\n",
    "Пусть данные имеют Гауссово распределение с неизвестными нам вектором средних $\\mu$ и матрицей ковариаций $\\Sigma$\n",
    "<img src=\"img/elliptic1.png\" width=200>\n",
    "\n",
    "Шаги:\n",
    "\n",
    "1. Делаем эмпирическую оценку параметров $\\mu$ и $\\Sigma$:\n",
    "\n",
    "    (методом максимальногоо правдоподобия)\n",
    "\n",
    "\n",
    "2. Рассчитываем Махалонобисово расстояние до всех точек \n",
    "\n",
    "    $d_{(\\mu,\\Sigma)}(x_i)^2 = (x_i - \\mu)'\\Sigma^{-1}(x_i - \\mu)$\n",
    "    \n",
    "    \\* Махаланобисово расстояние - это метрика расстояния, учитывающая ковариации между признаками.\n",
    "\n",
    "\n",
    "3. Отсекаем все что больше пороговой квантили (например в 97,5)% - это и есть выбросы\n",
    "\n",
    "Множество точек с махаланобисовым расстоянием равным пороговому значению - эллипс, отсюда название метода. Всё что за пределами границы считаем выбросами, все что внутри - нормальными точками (inliers)."
   ]
  },
  {
   "cell_type": "markdown",
   "metadata": {},
   "source": [
    "### Что не так с этим подходом? \n",
    "\n",
    "Выбросы сильно влияют на оценку $\\mu$  и $\\Sigma$. На картинке сравнение двух эллипсов (эмпирического - синий и реального - красный). В результате пропускается очень много аутлайеров.\n",
    "\n",
    "<img src=\"img/elliptic1.png\" width=200>\n",
    "\n",
    "### Робастные эллипсы\n",
    "\n",
    "Существует более робастная оценка матрицы ковариаций: MinCovDet (MinCovariance Determinant).\n",
    "\n",
    "В математике **робастной** называют оценку какого-либо параметра, не подверженную влиянию случайных выбросов.\n",
    "\n",
    "Принцип - выбираем размер подмножества точек размера h такой, что детерминант матрицы ковариаций наименьший (почему именно детерминант пока не разобрался).\n",
    "\n",
    "Сравнение отсекаемых точек ниже:\n",
    "<img src=\"\" width=200>\n",
    "\n",
    "\n",
    "Для реализации нужен полный перебор всех подмножеств: $\\binom{n}{h}$ => считается долго. Но в 1999 появился feasible вариант (fastMCD) и его стали использовать."
   ]
  },
  {
   "cell_type": "markdown",
   "metadata": {},
   "source": [
    "### Реализация\n",
    "\n",
    "В sklearn эмпирическая оценка считается через covariance.EmpiricalCovariance."
   ]
  },
  {
   "cell_type": "code",
   "execution_count": 4,
   "metadata": {},
   "outputs": [
    {
     "ename": "NameError",
     "evalue": "name 'X' is not defined",
     "output_type": "error",
     "traceback": [
      "\u001b[0;31m---------------------------------------------------------------------------\u001b[0m",
      "\u001b[0;31mNameError\u001b[0m                                 Traceback (most recent call last)",
      "\u001b[0;32m<ipython-input-4-4ddee93c6b8d>\u001b[0m in \u001b[0;36m<module>\u001b[0;34m()\u001b[0m\n\u001b[1;32m      1\u001b[0m \u001b[0;32mfrom\u001b[0m \u001b[0msklearn\u001b[0m\u001b[0;34m.\u001b[0m\u001b[0mcovariance\u001b[0m \u001b[0;32mimport\u001b[0m \u001b[0mEmpiricalCovariance\u001b[0m\u001b[0;34m\u001b[0m\u001b[0m\n\u001b[0;32m----> 2\u001b[0;31m \u001b[0mcov\u001b[0m \u001b[0;34m=\u001b[0m \u001b[0mEmpiricalCovariance\u001b[0m\u001b[0;34m(\u001b[0m\u001b[0;34m)\u001b[0m\u001b[0;34m.\u001b[0m\u001b[0mfit\u001b[0m\u001b[0;34m(\u001b[0m\u001b[0mX\u001b[0m\u001b[0;34m)\u001b[0m\u001b[0;34m\u001b[0m\u001b[0m\n\u001b[0m",
      "\u001b[0;31mNameError\u001b[0m: name 'X' is not defined"
     ]
    }
   ],
   "source": [
    "from sklearn.covariance import EmpiricalCovariance\n",
    "cov = EmpiricalCovariance().fit(X)"
   ]
  },
  {
   "cell_type": "markdown",
   "metadata": {},
   "source": [
    "Робастная оценка считается covariance.MinCovDet."
   ]
  },
  {
   "cell_type": "code",
   "execution_count": 3,
   "metadata": {},
   "outputs": [
    {
     "ename": "NameError",
     "evalue": "name 'X' is not defined",
     "output_type": "error",
     "traceback": [
      "\u001b[0;31m---------------------------------------------------------------------------\u001b[0m",
      "\u001b[0;31mNameError\u001b[0m                                 Traceback (most recent call last)",
      "\u001b[0;32m<ipython-input-3-eade8bea3d59>\u001b[0m in \u001b[0;36m<module>\u001b[0;34m()\u001b[0m\n\u001b[1;32m      1\u001b[0m \u001b[0;32mfrom\u001b[0m \u001b[0msklearn\u001b[0m\u001b[0;34m.\u001b[0m\u001b[0mcovariance\u001b[0m \u001b[0;32mimport\u001b[0m \u001b[0mMinCovDet\u001b[0m\u001b[0;34m\u001b[0m\u001b[0m\n\u001b[0;32m----> 2\u001b[0;31m \u001b[0mmcd\u001b[0m \u001b[0;34m=\u001b[0m \u001b[0mMinCovDet\u001b[0m\u001b[0;34m(\u001b[0m\u001b[0;34m)\u001b[0m\u001b[0;34m.\u001b[0m\u001b[0mfit\u001b[0m\u001b[0;34m(\u001b[0m\u001b[0mX\u001b[0m\u001b[0;34m)\u001b[0m\u001b[0;34m\u001b[0m\u001b[0m\n\u001b[0m",
      "\u001b[0;31mNameError\u001b[0m: name 'X' is not defined"
     ]
    }
   ],
   "source": [
    "from sklearn.covariance import MinCovDet\n",
    "mcd = MinCovDet().fit(X)"
   ]
  },
  {
   "cell_type": "code",
   "execution_count": null,
   "metadata": {},
   "outputs": [],
   "source": [
    "Махаланобисово расстояние считается \n",
    "cov.mahalanobis(X_test)\n",
    "mcd.mahalanobis(X_test)\n",
    "\n",
    "cov.error_norm(another_cov) - норма разницы с другой матрицей ковариаций\n",
    "(норма Фробениуса - сумма квадратов элементов)\n",
    "\n",
    "EllipticEnvolope - обертка для MinCovDet, которая сразу считает аутлайеры."
   ]
  },
  {
   "cell_type": "code",
   "execution_count": null,
   "metadata": {},
   "outputs": [],
   "source": []
  }
 ],
 "metadata": {
  "kernelspec": {
   "display_name": "Python 3",
   "language": "python",
   "name": "python3"
  },
  "language_info": {
   "codemirror_mode": {
    "name": "ipython",
    "version": 3
   },
   "file_extension": ".py",
   "mimetype": "text/x-python",
   "name": "python",
   "nbconvert_exporter": "python",
   "pygments_lexer": "ipython3",
   "version": "3.5.6"
  }
 },
 "nbformat": 4,
 "nbformat_minor": 2
}
