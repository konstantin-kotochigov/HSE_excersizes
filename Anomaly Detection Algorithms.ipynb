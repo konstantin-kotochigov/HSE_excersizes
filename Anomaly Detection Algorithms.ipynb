{
 "cells": [
  {
   "cell_type": "markdown",
   "metadata": {},
   "source": [
    "### Гаусовы эллипсы\n",
    "\n",
    "Самый простой способ детектирования аномалий - описать данные Гаусовым распределением и найти точки из его хвостов.\n",
    "\n",
    "Пусть данные имеют Гауссово распределение с неизвестными нам вектором средних $\\mu$ и матрицей ковариаций $\\Sigma$\n",
    "<img src=\"img/gaussian1.png\" width=500>\n",
    "\n",
    "Шаги:\n",
    "\n",
    "1. Делаем эмпирическую оценку параметров $\\mu$ и $\\Sigma$:\n",
    "\n",
    "    (методом максимальногоо правдоподобия)\n",
    "\n",
    "\n",
    "2. Рассчитываем Махалонобисово расстояние до всех точек \n",
    "\n",
    "    $d_{(\\mu,\\Sigma)}(x_i)^2 = (x_i - \\mu)'\\Sigma^{-1}(x_i - \\mu)$\n",
    "    \n",
    "    \\* Махаланобисово расстояние - это метрика расстояния, учитывающая ковариации между признаками.\n",
    "\n",
    "\n",
    "3. Отсекаем все что больше пороговой квантили (например в 97,5)% - это и есть выбросы\n",
    "\n",
    "Множество точек с махаланобисовым расстоянием равным пороговому значению - эллипс, отсюда название метода. Всё что за пределами границы считаем выбросами, все что внутри - нормальными точками (inliers)."
   ]
  },
  {
   "cell_type": "markdown",
   "metadata": {},
   "source": [
    "### Что не так с этим подходом? \n",
    "\n",
    "1) Во-первых, редко когда данные можно описать одним гауссовым эллипсом. В этом случае луше использовать GMM (он описываемый далее в этом докуенмте).\n",
    "\n",
    "2) Во-вторых, выбросы сильно влияют на оценку $\\mu$  и $\\Sigma$. На картинке ниже сравнение двух эллипсов (эмпирического - синий и реального - красный). \n",
    "\n",
    "Видим, что синий эллипс сильно \"притянут\" выбросами. В результате пропускается очень много аутлайеров.\n",
    "\n",
    "<img src=\"img/elliptic_empiric.png\" width=400>\n",
    "\n",
    "### Робастные эллипсы\n",
    "\n",
    "В математике **робастной** называют оценку какого-либо параметра, не подверженную влиянию случайных выбросов.\n",
    "\n",
    "Существует более робастная оценка матрицы ковариаций: MinCovDet (Min Covariance Determinant).\n",
    "\n",
    "\n",
    "Принцип построения: \n",
    "1. выбираем параметр h\n",
    "2. ищем подмножество точек объемом h, на котором определитель матрицы ковариаций минмален\n",
    "3. ищем на этом подмножестве оценки параметров $\\mu$ и $\\Sigma$ методом маскимального правдоподобия - это и есть наши робастные оценки\n",
    "\n",
    "Ниже сравнение ситуации с обычной оценкой ковариации (слева) и робастной (справа). По оси X отложены точки выборки, по оси Y - их махалонобисовы расстояния. Красная линия  - 97.5-процентный уровень эллипса.\n",
    "<img src=\"img/elliptic_comparison.png\" width=600>\n",
    "\n",
    "Видим, что при использовании робастной оценки, махаланобисовы расстояния выбросов стали больше => выбросы лучше отделяются.\n",
    "\n",
    "Для реализации нужен полный перебор всех подмножеств: $\\binom{n}{h}$ => считается долго. Но в 1999 году появился feasible вариант алгоритма (fastMCD) и его стали использовать."
   ]
  },
  {
   "cell_type": "markdown",
   "metadata": {},
   "source": [
    "### Sklearn :: EllipseEnvelope\n",
    "\n",
    "В sklearn обычная оценка матрицы ковариаций считается через covariance.EmpiricalCovariance."
   ]
  },
  {
   "cell_type": "code",
   "execution_count": null,
   "metadata": {},
   "outputs": [],
   "source": [
    "from sklearn.covariance import EmpiricalCovariance\n",
    "cov = EmpiricalCovariance().fit(X)"
   ]
  },
  {
   "cell_type": "markdown",
   "metadata": {},
   "source": [
    "Робастная оценка считается covariance.MinCovDet."
   ]
  },
  {
   "cell_type": "code",
   "execution_count": null,
   "metadata": {},
   "outputs": [],
   "source": [
    "from sklearn.covariance import MinCovDet\n",
    "mcd = MinCovDet().fit(X)"
   ]
  },
  {
   "cell_type": "markdown",
   "metadata": {},
   "source": [
    "В этих же классах есть метод для расчета Махаланобисова расстояния при раасчитанных ($\\mu$,$\\Sigma$)"
   ]
  },
  {
   "cell_type": "code",
   "execution_count": null,
   "metadata": {},
   "outputs": [],
   "source": [
    "cov.mahalanobis(X_test)\n",
    "mcd.mahalanobis(X_test)"
   ]
  },
  {
   "cell_type": "code",
   "execution_count": null,
   "metadata": {},
   "outputs": [],
   "source": [
    "cov.error_norm(another_cov) - норма разницы с другой матрицей ковариаций\n",
    "(норма Фробениуса - сумма квадратов элементов)"
   ]
  },
  {
   "cell_type": "markdown",
   "metadata": {},
   "source": [
    "### Gaussian Mixture Model\n",
    "\n",
    "Вариация на тему предыдущего подхода - когда данные моделируются комбинацией сразу нескольких гауссовых рапсределений. Такая конфигурация называется GMM (gaussian mixture model).\n",
    "\n",
    "<img src=\"img/gmm.png\" width=400>\n",
    "\n",
    "Она позволяет уйти от требуемой симметричности данных и моделировать более сложные выборки."
   ]
  },
  {
   "cell_type": "code",
   "execution_count": null,
   "metadata": {},
   "outputs": [],
   "source": [
    "from sklearn.mixture import GasussianMixture\n",
    "gmm = GaussianMixture(n_components = 3, covariance_type='full')\n",
    "gmm.fit(X)"
   ]
  },
  {
   "cell_type": "markdown",
   "metadata": {},
   "source": [
    "Чтобы оценить удаленность точки от центра своего распределения, можем посчитать вер-ть методом score_samples()"
   ]
  },
  {
   "cell_type": "code",
   "execution_count": null,
   "metadata": {},
   "outputs": [],
   "source": [
    "point_dist = gmm.score_samples(X_test)"
   ]
  },
  {
   "cell_type": "markdown",
   "metadata": {},
   "source": [
    "### Local Outlier Factor\n",
    "\n",
    "Алгоритм Относится к классу плотностных (density based) методов. \n",
    "\n",
    "**Идея**: если \"плотность\" выборки в районе точки небольшая, то скорее всего это выброс. \n",
    "\n",
    "Что значит \"плотность\"?\n",
    "    \n",
    "    Плотность считается как 1 / среднее расстояние до k-ближайших соседей. \n",
    "\n",
    "Что значит \"небольшая\"? \n",
    "\n",
    "    Значит, что плотность точки сильно меньше, чем плотность её соседей. \n",
    "    \n",
    "Показатель LOF = отношение средней плотности соседей к плотности точки. Пример значений LOF для разных точек ниже.\n",
    "\n",
    "<img src=\"img/lof.png\" width=400>\n",
    "\n",
    "\n",
    "\n",
    "Небольшой нюанс в том, что в расстояния считается не Евклидово, а Reachibility Distance - оно дополнительно ограничивается снизу. Иллюстраиця ниже - расстояние от C до A равно расстоянию от B до A, а вот расстояние от D до A больше.\n",
    "<img src=\"img/lof_dist.png\" width=150>\n",
    "\n",
    "Сделано (как я понял) для устойчивости расчета LOF (чтобы много маленьких расстояний не влияли на среднее значение).\n",
    "\n",
    "Можно заметить, что в этом методе исп тот же концепт, что и в плотностном алгоритме кластеризации DBSCAN.\n",
    "\n",
    "Объяснение для чайников:\n",
    "https://blog.stealthbits.com/local-outlier-factor-part-1"
   ]
  },
  {
   "cell_type": "markdown",
   "metadata": {},
   "source": [
    "### Sklearn :: LocalOutlierFactor\n",
    "\n",
    "В Sklearn для LOF есть класс LocalOutlierFactor"
   ]
  },
  {
   "cell_type": "code",
   "execution_count": null,
   "metadata": {},
   "outputs": [],
   "source": [
    "from sklearn.neighbors import LocalOutlierFactor\n",
    "clf = LocalOutlierFactor(n_neighbors=20)\n",
    "y_pred = clf.fit_predict(X)"
   ]
  },
  {
   "cell_type": "markdown",
   "metadata": {},
   "source": [
    "В Sklearn все методы детектирования аномалий имеют очень схожий API:\n",
    "\n",
    "Методы:\n",
    "- fit - считается \"нестандартность\" каждой точки (у каждого алгоритма метрика соотвественно своя)\n",
    "- predict - с помощью порогового значения каждая точка помечаются как выброс или нет\n",
    "\n",
    "Метод predict() возвращает значение :\n",
    "- 1, если точка не считается выбросом\n",
    "- -1, если точка прогнозируется выбросом\n",
    "\n",
    "Параметры обучения:\n",
    "- contamination_factor - верхний квантиль расстояния, в котором точка считается выбросом (обычно 10%)\n",
    "\n"
   ]
  },
  {
   "cell_type": "markdown",
   "metadata": {},
   "source": [
    "Это единственный anomaly detection метод в sklearn, который можно распараллелить"
   ]
  },
  {
   "cell_type": "code",
   "execution_count": null,
   "metadata": {},
   "outputs": [],
   "source": [
    "clf = LocalOutlierFactor(n_neighbors=20, n_jobs=16)\n",
    "y_pred = clf.fit_predict(X)"
   ]
  },
  {
   "cell_type": "code",
   "execution_count": null,
   "metadata": {},
   "outputs": [],
   "source": []
  },
  {
   "cell_type": "code",
   "execution_count": null,
   "metadata": {},
   "outputs": [],
   "source": []
  },
  {
   "cell_type": "code",
   "execution_count": null,
   "metadata": {},
   "outputs": [],
   "source": []
  },
  {
   "cell_type": "code",
   "execution_count": null,
   "metadata": {},
   "outputs": [],
   "source": []
  },
  {
   "cell_type": "code",
   "execution_count": null,
   "metadata": {},
   "outputs": [],
   "source": []
  },
  {
   "cell_type": "code",
   "execution_count": null,
   "metadata": {},
   "outputs": [],
   "source": []
  },
  {
   "cell_type": "code",
   "execution_count": null,
   "metadata": {},
   "outputs": [],
   "source": []
  },
  {
   "cell_type": "code",
   "execution_count": null,
   "metadata": {},
   "outputs": [],
   "source": []
  },
  {
   "cell_type": "code",
   "execution_count": null,
   "metadata": {},
   "outputs": [],
   "source": []
  },
  {
   "cell_type": "code",
   "execution_count": null,
   "metadata": {},
   "outputs": [],
   "source": []
  },
  {
   "cell_type": "code",
   "execution_count": null,
   "metadata": {},
   "outputs": [],
   "source": []
  }
 ],
 "metadata": {
  "kernelspec": {
   "display_name": "Python 3",
   "language": "python",
   "name": "python3"
  },
  "language_info": {
   "codemirror_mode": {
    "name": "ipython",
    "version": 3
   },
   "file_extension": ".py",
   "mimetype": "text/x-python",
   "name": "python",
   "nbconvert_exporter": "python",
   "pygments_lexer": "ipython3",
   "version": "3.5.6"
  }
 },
 "nbformat": 4,
 "nbformat_minor": 2
}
